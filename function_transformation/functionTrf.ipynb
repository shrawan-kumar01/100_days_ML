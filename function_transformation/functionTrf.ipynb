{
 "cells": [
  {
   "cell_type": "code",
   "execution_count": 166,
   "metadata": {},
   "outputs": [],
   "source": [
    "#  import libs \n",
    "import pandas as pd \n",
    "import numpy as np\n",
    "import scipy.stats as stats\n",
    "\n",
    "import matplotlib.pyplot as plt \n",
    "import seaborn as sns \n",
    "\n",
    "from sklearn.model_selection import train_test_split\n",
    "from sklearn.metrics import accuracy_score\n",
    "from sklearn.model_selection import cross_val_score\n",
    "\n",
    "from sklearn.linear_model import LogisticRegression\n",
    "from sklearn.tree import DecisionTreeClassifier\n",
    "\n",
    "from sklearn.preprocessing import FunctionTransformer\n",
    "from sklearn.compose import ColumnTransformer\n"
   ]
  },
  {
   "cell_type": "code",
   "execution_count": 167,
   "metadata": {},
   "outputs": [],
   "source": [
    "df = pd.read_csv(r\"C:\\Users\\Dell\\Desktop\\pythonDevelopment\\data-set\\Titanic-Dataset.csv\", usecols=['Age' , 'Fare' , 'Survived'])"
   ]
  },
  {
   "cell_type": "code",
   "execution_count": null,
   "metadata": {},
   "outputs": [],
   "source": [
    "# df.isnull().sum()\n",
    "#  fill null value with mean \n",
    "df['Age'].fillna(df['Age'].mean() , inplace=True)"
   ]
  },
  {
   "cell_type": "code",
   "execution_count": null,
   "metadata": {},
   "outputs": [],
   "source": [
    "print(df)"
   ]
  },
  {
   "cell_type": "code",
   "execution_count": 170,
   "metadata": {},
   "outputs": [],
   "source": [
    "x = df.iloc[:,1:3]\n",
    "y = df.iloc[:,0]"
   ]
  },
  {
   "cell_type": "code",
   "execution_count": 171,
   "metadata": {},
   "outputs": [],
   "source": [
    "x_train,x_test,y_train,y_test = train_test_split(x,y,test_size=0.2 ,random_state=42)"
   ]
  },
  {
   "cell_type": "code",
   "execution_count": null,
   "metadata": {},
   "outputs": [],
   "source": [
    "#  plots  Age\n",
    "plt.Figure(figsize=(14,4))\n",
    "plt.subplot(121)\n",
    "sns.distplot(x_train['Age'])\n",
    "plt.title('Age PDF')\n",
    "plt.show()\n",
    "\n",
    "plt.Figure(figsize=(14,4))\n",
    "plt.subplot(121)\n",
    "stats.probplot(x_train['Age'] , dist = 'norm' , plot=plt)\n",
    "plt.title('Age QQ plot')\n",
    "plt.show()\n"
   ]
  },
  {
   "cell_type": "code",
   "execution_count": null,
   "metadata": {},
   "outputs": [],
   "source": [
    "#  plots  fare\n",
    "plt.Figure(figsize=(14,4))\n",
    "plt.subplot(121)\n",
    "sns.distplot(x_train['Fare'])\n",
    "plt.title('Fare PDF')\n",
    "plt.show()\n",
    "\n",
    "plt.Figure(figsize=(14,4))\n",
    "plt.subplot(121)\n",
    "stats.probplot(x_train['Fare'] , dist = 'norm' , plot=plt)\n",
    "plt.title('Fare QQ plot')\n",
    "plt.show()"
   ]
  },
  {
   "cell_type": "code",
   "execution_count": 188,
   "metadata": {},
   "outputs": [],
   "source": [
    "clf = LogisticRegression()\n",
    "clf1 = DecisionTreeClassifier()\n",
    "\n"
   ]
  },
  {
   "cell_type": "code",
   "execution_count": null,
   "metadata": {},
   "outputs": [],
   "source": [
    "\n",
    "clf1.fit(x_train , y_train)"
   ]
  },
  {
   "cell_type": "code",
   "execution_count": null,
   "metadata": {},
   "outputs": [],
   "source": [
    "clf.fit(x_train , y_train)"
   ]
  },
  {
   "cell_type": "code",
   "execution_count": null,
   "metadata": {},
   "outputs": [],
   "source": [
    "y_pred = clf.predict(x_test)\n",
    "y_pred1 = clf1.predict(x_test)\n",
    "print(\"Acuracy Score of LR \" , accuracy_score(y_test , y_pred))\n",
    "print(\"Acuracy score of DT \" , accuracy_score(y_test , y_pred1))\n",
    "\n"
   ]
  },
  {
   "cell_type": "code",
   "execution_count": 192,
   "metadata": {},
   "outputs": [],
   "source": [
    "#  measure accuracy score alfer applied log transformation \n",
    "\n",
    "trf = FunctionTransformer(func= np.log1p)"
   ]
  },
  {
   "cell_type": "code",
   "execution_count": 193,
   "metadata": {},
   "outputs": [],
   "source": [
    "x_train_transformed = trf.fit_transform(x_train)\n",
    "x_test_transformed = trf.transform(x_test)\n"
   ]
  },
  {
   "cell_type": "code",
   "execution_count": 194,
   "metadata": {},
   "outputs": [],
   "source": [
    "clf = LogisticRegression()\n",
    "clf1 = DecisionTreeClassifier()"
   ]
  },
  {
   "cell_type": "code",
   "execution_count": null,
   "metadata": {},
   "outputs": [],
   "source": [
    "clf.fit(x_train_transformed , y_train)\n",
    "\n",
    "\n"
   ]
  },
  {
   "cell_type": "code",
   "execution_count": null,
   "metadata": {},
   "outputs": [],
   "source": [
    "clf1.fit(x_train_transformed , y_train)"
   ]
  },
  {
   "cell_type": "code",
   "execution_count": null,
   "metadata": {},
   "outputs": [],
   "source": []
  },
  {
   "cell_type": "code",
   "execution_count": null,
   "metadata": {},
   "outputs": [],
   "source": [
    "y_pred_trf = clf.predict(x_test_transformed)\n",
    "y_pred_trf = clf1.predict(x_test_transformed)\n",
    "print(\"Acuracy Score of LR \" , accuracy_score(y_test , y_pred))\n",
    "print(\"Acuracy score of DT \" , accuracy_score(y_test , y_pred))\n",
    "\n"
   ]
  },
  {
   "cell_type": "code",
   "execution_count": null,
   "metadata": {},
   "outputs": [],
   "source": [
    "\n",
    "x_transformed = trf.fit_transform(x)\n",
    "clf = LogisticRegression()\n",
    "clf1 = DecisionTreeClassifier()\n",
    "\n",
    "print(\"LR\" , np.mean(cross_val_score(clf, x_transformed , y, scoring='accuracy' , cv = 10 )))\n",
    "print(\"DT\" , np.mean(cross_val_score(clf1, x_transformed , y, scoring='accuracy' , cv = 10 )))\n"
   ]
  },
  {
   "cell_type": "code",
   "execution_count": null,
   "metadata": {},
   "outputs": [],
   "source": [
    "#  check if improvement is done or not  --- > Fare\n",
    "\n",
    "plt.Figure(figsize=(14,4))\n",
    "plt.subplot(121)\n",
    "stats.probplot(x_train['Fare'] , dist = \"norm\" , plot= plt)\n",
    "plt.title(\"Fare befoe log\")\n",
    "plt.show()\n",
    "\n",
    "plt.subplot(122)\n",
    "stats.probplot(x_train_transformed['Fare'] , dist = 'norm' , plot = plt)\n",
    "plt.title(\"Fare after  log applied \")\n",
    "plt.show()\n",
    "\n",
    "\n",
    "\n"
   ]
  },
  {
   "cell_type": "code",
   "execution_count": null,
   "metadata": {},
   "outputs": [],
   "source": [
    "#  check if improvement is done or not  --- > Age\n",
    "\n",
    "plt.Figure(figsize=(14,4))\n",
    "plt.subplot(121)\n",
    "stats.probplot(x_train['Age'] , dist = \"norm\" , plot= plt)\n",
    "plt.title(\"Age befoe log\")\n",
    "plt.show()\n",
    "\n",
    "plt.subplot(122)\n",
    "stats.probplot(x_train_transformed['Age'] , dist = 'norm' , plot = plt)\n",
    "plt.title(\"Age after  log applied \")\n",
    "plt.show()"
   ]
  },
  {
   "cell_type": "markdown",
   "metadata": {},
   "source": [
    "performance of Age after log applied goed down ... \n"
   ]
  },
  {
   "cell_type": "code",
   "execution_count": 204,
   "metadata": {},
   "outputs": [],
   "source": [
    "#  crate coloumn Transformer and apply transformatio only in Fare and re fit the model \n",
    "\n"
   ]
  },
  {
   "cell_type": "code",
   "execution_count": null,
   "metadata": {},
   "outputs": [],
   "source": [
    "trf2 = ColumnTransformer([\n",
    "    ('log', FunctionTransformer(np.log1p) , ['Fare'])\n",
    "], remainder='passthrough')\n",
    "\n",
    "x_train_transformed2 = trf2.fit_transform(x_train)\n",
    "x_test_transformed2 = trf2.transform(x_test)\n",
    "\n",
    "#  create lr and dr instance and fit \n",
    "\n",
    "clf = LogisticRegression()\n",
    "clf1 = DecisionTreeClassifier()\n",
    "\n",
    "clf.fit(x_train_transformed2 , y_train)\n",
    "clf1.fit(x_train_transformed2 , y_train)\n",
    "\n",
    "y_pred = clf.predict(x_test_transformed2)\n",
    "y_pred1 = clf1.predict(x_test_transformed2)\n",
    "\n",
    "print(\"LR\" , accuracy_score(y_test , y_pred))\n",
    "print(\"DT\" , accuracy_score(y_test , y_pred1))\n"
   ]
  },
  {
   "cell_type": "code",
   "execution_count": 212,
   "metadata": {},
   "outputs": [],
   "source": [
    "#  other transformers \n",
    "\n",
    "#  function \n",
    "def apply_transformation(transform):\n",
    "    x = df.iloc[:,1:3]\n",
    "    y = df.iloc[:,0]\n",
    "    trf = ColumnTransformer([\n",
    "    ('log', FunctionTransformer(np.log1p) , ['Fare'])\n",
    "], remainder='passthrough')\n",
    "    \n",
    "    x_trans = trf.fit_transform(x)\n",
    "    clf = LogisticRegression()\n",
    "\n",
    "    print(\"Accuracy\" , np.mean(cross_val_score(clf , x_trans , y , scoring = 'accuracy' , cv = 10)))\n",
    "\n",
    "    plt.figure(figsize=(14,4))\n",
    "\n",
    "    plt.subplot(121)\n",
    "    stats.probplot(x['Fare'] , dist = 'norm' , plot = plt)\n",
    "    plt.title('Fare before transformation')\n",
    "    plt.show()\n",
    "\n",
    "    plt.subplot(122)\n",
    "    stats.probplot(x_trans[:,0], dist = 'norm' , plot = plt)\n",
    "    plt.title('Fare after log  transformation')\n",
    "    plt.show()\n",
    " \n"
   ]
  },
  {
   "cell_type": "code",
   "execution_count": null,
   "metadata": {},
   "outputs": [],
   "source": [
    "# calling function \n",
    "apply_transformation(lambda x :x)"
   ]
  },
  {
   "cell_type": "code",
   "execution_count": null,
   "metadata": {},
   "outputs": [],
   "source": [
    "apply_transformation(lambda x : x**2)"
   ]
  },
  {
   "cell_type": "code",
   "execution_count": null,
   "metadata": {},
   "outputs": [],
   "source": [
    "apply_transformation(lambda x : np.sqrtx)"
   ]
  },
  {
   "cell_type": "code",
   "execution_count": null,
   "metadata": {},
   "outputs": [],
   "source": [
    "apply_transformation(lambda x : 1/x)"
   ]
  }
 ],
 "metadata": {
  "kernelspec": {
   "display_name": "Python 3",
   "language": "python",
   "name": "python3"
  },
  "language_info": {
   "codemirror_mode": {
    "name": "ipython",
    "version": 3
   },
   "file_extension": ".py",
   "mimetype": "text/x-python",
   "name": "python",
   "nbconvert_exporter": "python",
   "pygments_lexer": "ipython3",
   "version": "3.13.1"
  }
 },
 "nbformat": 4,
 "nbformat_minor": 2
}
