{
 "cells": [
  {
   "cell_type": "code",
   "execution_count": 2,
   "metadata": {},
   "outputs": [],
   "source": [
    "#  importing all the libs \n",
    "import numpy as np \n",
    "import pandas as pd \n",
    "from sklearn.impute import SimpleImputer\n",
    "from sklearn.preprocessing import OneHotEncoder\n",
    "from sklearn.preprocessing import OrdinalEncoder"
   ]
  },
  {
   "cell_type": "code",
   "execution_count": 3,
   "metadata": {},
   "outputs": [],
   "source": [
    "# load the dataset \n",
    "df = pd.read_csv('covid_toy.csv')"
   ]
  },
  {
   "cell_type": "code",
   "execution_count": null,
   "metadata": {},
   "outputs": [],
   "source": [
    "print(df.head)\n",
    "# df['city'].value_counts()\n",
    "print(df.isnull().sum())"
   ]
  },
  {
   "cell_type": "code",
   "execution_count": 5,
   "metadata": {},
   "outputs": [],
   "source": [
    "from sklearn.model_selection import train_test_split\n",
    "x_train , x_test, y_train , y_Test = train_test_split(df.drop(columns='has_covid'), df['has_covid'] , test_size=0.2\n",
    "                                                      ) "
   ]
  },
  {
   "cell_type": "code",
   "execution_count": null,
   "metadata": {},
   "outputs": [],
   "source": [
    "#  applying simple imputer \n",
    "si = SimpleImputer()\n",
    "x_train_fever = si.fit_transform(x_train[['fever']])\n",
    "x_test_fever = si.fit_transform(x_test[['fever']])\n",
    "x_train_fever.shape\n",
    "x_train_fever\n"
   ]
  },
  {
   "cell_type": "code",
   "execution_count": null,
   "metadata": {},
   "outputs": [],
   "source": [
    "# ordinal encoding \n",
    "oe = OrdinalEncoder(categories =[ ['Mild', 'Strong']])\n",
    "x_train_cough = oe.fit_transform(x_train[['cough']])\n",
    "#  also on test data \n",
    "x_test_cough = oe.fit_transform(x_test[['cough']])\n",
    "x_test_cough"
   ]
  },
  {
   "cell_type": "code",
   "execution_count": null,
   "metadata": {},
   "outputs": [],
   "source": [
    "#  applying one hot encoding on -----> gender and cityb \n",
    "ohe = OneHotEncoder(drop='first',sparse_output=False)\n",
    "x_train_gender_city = ohe.fit_transform(x_train[['gender','city']])\n",
    "x_test_gender_city = ohe.fit_transform(x_test[['gender' , 'city']])\n",
    "x_test_gender_city"
   ]
  },
  {
   "cell_type": "code",
   "execution_count": null,
   "metadata": {},
   "outputs": [],
   "source": [
    "# extract age \n",
    "x_train_age = x_train.drop(columns=['gender' , 'fever', 'cough' , 'city'])\n",
    "x_test_age = x_test.drop(columns=['gender' , 'fever', 'cough' , 'city'])\n",
    "x_train_age.shape"
   ]
  },
  {
   "cell_type": "code",
   "execution_count": null,
   "metadata": {},
   "outputs": [],
   "source": [
    "#  concanate all the np arrays \n",
    "x_train_transformed = np.concatenate((x_train_age, x_train_fever,x_train_gender_city, x_train_cough),axis = 1)\n",
    "x_test_Transfromed = np.concatenate((x_test_age, x_test_fever,x_test_gender_city, x_test_cough),axis = 1)\n",
    "x_train_transformed.shape\n",
    "x_test_Transfromed.shape"
   ]
  },
  {
   "cell_type": "code",
   "execution_count": 26,
   "metadata": {},
   "outputs": [],
   "source": [
    "#  all the transformation is done using colouimn transformer in one line \n",
    "# ######## COLOUMN TRANSFORMER \n",
    "from sklearn.compose import ColumnTransformer\n",
    "transformer = ColumnTransformer(transformers =  [\n",
    "    ('tnf1' , SimpleImputer() , ['fever']),\n",
    "    ('tnd2' , OrdinalEncoder(categories=[['Mild' , 'Strong']]) , ['cough']),\n",
    "    ('tnf3' , OneHotEncoder(sparse_output = False), ['gender' , 'city'])\n",
    "\n",
    "], remainder='passthrough')\n",
    "# x_train"
   ]
  },
  {
   "cell_type": "code",
   "execution_count": null,
   "metadata": {},
   "outputs": [],
   "source": [
    "transformer.fit_transform(x_train).shape\n",
    "transformer.fit_transform(x_test).shape\n"
   ]
  }
 ],
 "metadata": {
  "kernelspec": {
   "display_name": "Python 3",
   "language": "python",
   "name": "python3"
  },
  "language_info": {
   "codemirror_mode": {
    "name": "ipython",
    "version": 3
   },
   "file_extension": ".py",
   "mimetype": "text/x-python",
   "name": "python",
   "nbconvert_exporter": "python",
   "pygments_lexer": "ipython3",
   "version": "3.13.1"
  }
 },
 "nbformat": 4,
 "nbformat_minor": 2
}
