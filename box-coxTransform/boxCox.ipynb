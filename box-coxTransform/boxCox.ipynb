{
 "cells": [
  {
   "cell_type": "markdown",
   "metadata": {},
   "source": [
    "on given concrete dataset predict strength "
   ]
  },
  {
   "cell_type": "code",
   "execution_count": 2,
   "metadata": {},
   "outputs": [],
   "source": [
    "import numpy as np \n",
    "import pandas as pd\n",
    "import seaborn as sns \n",
    "import matplotlib.pyplot as plt\n",
    "\n",
    "import scipy.stats as stats\n",
    "\n",
    "from sklearn.model_selection import train_test_split\n",
    "from sklearn.model_selection import cross_val_score\n",
    "from sklearn.linear_model import LinearRegression\n",
    "from sklearn.metrics import r2_score\n",
    "from sklearn.preprocessing import PowerTransformer\n"
   ]
  },
  {
   "cell_type": "code",
   "execution_count": null,
   "metadata": {},
   "outputs": [],
   "source": [
    "#  working with dataframe \n",
    "df = pd.read_csv('concrete_data.csv')\n",
    "# df.head\n",
    "# df.shape\n",
    "# df.isnull().sum()\n",
    "# df.describe()\n",
    "x = df.drop(columns=['concrete_compressive_strength'])\n",
    "y = df.iloc[:,-1]"
   ]
  },
  {
   "cell_type": "code",
   "execution_count": null,
   "metadata": {},
   "outputs": [],
   "source": [
    "#  train test split\n",
    "x_train , x_test , y_train ,y_test = train_test_split(x,y,test_size=0.2,random_state=42)\n",
    "# fit the model \n",
    "lr = LinearRegression()\n",
    "lr.fit(x_train,y_train)\n",
    "y_predict = lr.predict(x_test,)\n",
    "r2score = r2_score(y_test , y_predict)\n",
    "print(\"r2_score = \" , r2score)\n",
    "\n",
    "#  cross checking with cross_val_score\n",
    "\n",
    "np.mean(cross_val_score(lr , x,y, scoring='r2'))    \n"
   ]
  },
  {
   "cell_type": "code",
   "execution_count": null,
   "metadata": {},
   "outputs": [],
   "source": [
    "#  making plot without any transformation applied \n",
    "\n",
    "for col in x_train.columns:\n",
    "    plt.Figure(figsize=(24,4))\n",
    "    plt.subplot(121)\n",
    "    sns.distplot(x_train[col])\n",
    "    plt.show()\n",
    "\n",
    "    plt.subplot(122)\n",
    "    stats.probplot(x_train[col] , dist = \"norm\" , plot = plt)\n",
    "    plt.show()"
   ]
  },
  {
   "cell_type": "code",
   "execution_count": null,
   "metadata": {},
   "outputs": [],
   "source": [
    "#  apply transformation \n",
    "trf = PowerTransformer(method='box-cox')\n",
    "x_transformed = trf.fit_transform(x+0.0000001)\n",
    "x_train_trf = trf.fit_transform(x_train + 0.0000001)\n",
    "x_test_trf = trf.transform(x_test + 0.0000001)\n",
    "\n",
    "df1 = pd.DataFrame({'cols': x_train.columns , 'box_cox_lambdas' : trf.lambdas_})\n",
    "print(df1)\n",
    "\n",
    "#  convert x_transformed in dataframe \n",
    "df_x_trf = pd.DataFrame(x_train_trf , columns = x_train.columns)\n"
   ]
  },
  {
   "cell_type": "code",
   "execution_count": null,
   "metadata": {},
   "outputs": [],
   "source": [
    "#  fit the model; \n",
    "lr = LinearRegression()\n",
    "lr.fit(x_train_trf , y_train)\n",
    "y_predict = lr.predict(x_test_trf)\n",
    "r2score_trf  = r2_score(y_test , y_predict) \n",
    "print(\"accuracy r2 scoretransformed \" , r2score_trf) \n",
    "\n",
    "#  applying cross val score \n",
    "np.mean(cross_val_score(lr , x_transformed , y , scoring = 'r2'))"
   ]
  },
  {
   "cell_type": "code",
   "execution_count": null,
   "metadata": {},
   "outputs": [],
   "source": [
    "#  making plot after  transformation applied \n",
    "\n",
    "for col in x_train.columns:\n",
    "    plt.Figure(figsize=(24,4))\n",
    "    plt.subplot(121)\n",
    "    sns.distplot(x_train[col])\n",
    "    plt.show()\n",
    "\n",
    "    plt.subplot(122)\n",
    "    sns.distplot(df_x_trf[col] )\n",
    "    plt.show()"
   ]
  }
 ],
 "metadata": {
  "kernelspec": {
   "display_name": "Python 3",
   "language": "python",
   "name": "python3"
  },
  "language_info": {
   "codemirror_mode": {
    "name": "ipython",
    "version": 3
   },
   "file_extension": ".py",
   "mimetype": "text/x-python",
   "name": "python",
   "nbconvert_exporter": "python",
   "pygments_lexer": "ipython3",
   "version": "3.13.1"
  }
 },
 "nbformat": 4,
 "nbformat_minor": 2
}
